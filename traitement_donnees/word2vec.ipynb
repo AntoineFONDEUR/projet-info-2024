{
  "cells": [
    {
      "cell_type": "markdown",
      "metadata": {},
      "source": [
        "Pour faire tourner les cellules, il vous faut:\n",
        "\n",
        "- Télécharger le fichier .txt présent sur <a href=\"https://wikipedia2vec.github.io/wikipedia2vec/pretrained/\">cette page</a>. <br>\n",
        "  Il s'agit du modèle pré-entrainé qui implémente word2vec ie il convertit chaque mot qu'on lui donne en un vecteur de taille p.<br>\n",
        "  La taille p du vecteur peut être choisie sur cette page de téléchargement (il y a, en français, le choix entre 100 et 300).<br>\n",
        "  Pour le télécharger, cliquer sur le \".txt\" n'a pas suffit pour moi, il glisser le lien dans un nouvel onglet. <br>\n",
        "  Le chargement (sur mon ordinateur) de la version avec p=100 prend environ 5mins et celle avec p=300 prend bien 20 mins.<br>\n",
        "  Il faut compter quelques Gb en RAM.\n",
        "\n",
        "- Télécharger les modules présent dans la cellule en dessous."
      ]
    },
    {
      "cell_type": "code",
      "execution_count": null,
      "metadata": {
        "colab": {
          "base_uri": "https://localhost:8080/"
        },
        "id": "93AVZcvDpXdJ",
        "outputId": "bb8541b8-e9d1-4eb8-dcd7-56d92cf28e87"
      },
      "outputs": [
        {
          "name": "stdout",
          "output_type": "stream",
          "text": [
            "Mounted at /content/gdrive\n"
          ]
        }
      ],
      "source": [
        "#Importation des modules nécessaires\n",
        "#En raison de la taille du modèle utilisé, il est nécessaire d'utiliser Google Colab pour exécuter ce code\n",
        "\n",
        "import string\n",
        "import spacy\n",
        "from gensim.models import keyedvectors\n",
        "import numpy as np\n",
        "from google.colab import drive\n",
        "import pandas as pd\n",
        "import requests\n",
        "import nltk\n",
        "from nltk.sentiment.vader import SentimentIntensityAnalyzer\n",
        "from googletrans import Translator\n",
        "drive.mount('/content/gdrive')"
      ]
    },
    {
      "cell_type": "code",
      "execution_count": null,
      "metadata": {
        "colab": {
          "base_uri": "https://localhost:8080/",
          "height": 950
        },
        "id": "CH4CwUz2tmXT",
        "outputId": "79a21776-1115-436b-d3f7-c49e83d9641a"
      },
      "outputs": [
        {
          "name": "stdout",
          "output_type": "stream",
          "text": [
            "Collecting googletrans==4.0.0-rc1\n",
            "  Downloading googletrans-4.0.0rc1.tar.gz (20 kB)\n",
            "  Preparing metadata (setup.py) ... \u001b[?25l\u001b[?25hdone\n",
            "Collecting httpx==0.13.3 (from googletrans==4.0.0-rc1)\n",
            "  Downloading httpx-0.13.3-py3-none-any.whl (55 kB)\n",
            "\u001b[2K     \u001b[90m━━━━━━━━━━━━━━━━━━━━━━━━━━━━━━━━━━━━━━━━\u001b[0m \u001b[32m55.1/55.1 kB\u001b[0m \u001b[31m3.0 MB/s\u001b[0m eta \u001b[36m0:00:00\u001b[0m\n",
            "\u001b[?25hRequirement already satisfied: certifi in /usr/local/lib/python3.10/dist-packages (from httpx==0.13.3->googletrans==4.0.0-rc1) (2024.6.2)\n",
            "Collecting hstspreload (from httpx==0.13.3->googletrans==4.0.0-rc1)\n",
            "  Downloading hstspreload-2024.7.1-py3-none-any.whl (1.2 MB)\n",
            "\u001b[2K     \u001b[90m━━━━━━━━━━━━━━━━━━━━━━━━━━━━━━━━━━━━━━━━\u001b[0m \u001b[32m1.2/1.2 MB\u001b[0m \u001b[31m9.6 MB/s\u001b[0m eta \u001b[36m0:00:00\u001b[0m\n",
            "\u001b[?25hRequirement already satisfied: sniffio in /usr/local/lib/python3.10/dist-packages (from httpx==0.13.3->googletrans==4.0.0-rc1) (1.3.1)\n",
            "Collecting chardet==3.* (from httpx==0.13.3->googletrans==4.0.0-rc1)\n",
            "  Downloading chardet-3.0.4-py2.py3-none-any.whl (133 kB)\n",
            "\u001b[2K     \u001b[90m━━━━━━━━━━━━━━━━━━━━━━━━━━━━━━━━━━━━━━━━\u001b[0m \u001b[32m133.4/133.4 kB\u001b[0m \u001b[31m15.2 MB/s\u001b[0m eta \u001b[36m0:00:00\u001b[0m\n",
            "\u001b[?25hCollecting idna==2.* (from httpx==0.13.3->googletrans==4.0.0-rc1)\n",
            "  Downloading idna-2.10-py2.py3-none-any.whl (58 kB)\n",
            "\u001b[2K     \u001b[90m━━━━━━━━━━━━━━━━━━━━━━━━━━━━━━━━━━━━━━━━\u001b[0m \u001b[32m58.8/58.8 kB\u001b[0m \u001b[31m6.5 MB/s\u001b[0m eta \u001b[36m0:00:00\u001b[0m\n",
            "\u001b[?25hCollecting rfc3986<2,>=1.3 (from httpx==0.13.3->googletrans==4.0.0-rc1)\n",
            "  Downloading rfc3986-1.5.0-py2.py3-none-any.whl (31 kB)\n",
            "Collecting httpcore==0.9.* (from httpx==0.13.3->googletrans==4.0.0-rc1)\n",
            "  Downloading httpcore-0.9.1-py3-none-any.whl (42 kB)\n",
            "\u001b[2K     \u001b[90m━━━━━━━━━━━━━━━━━━━━━━━━━━━━━━━━━━━━━━━━\u001b[0m \u001b[32m42.6/42.6 kB\u001b[0m \u001b[31m4.5 MB/s\u001b[0m eta \u001b[36m0:00:00\u001b[0m\n",
            "\u001b[?25hCollecting h11<0.10,>=0.8 (from httpcore==0.9.*->httpx==0.13.3->googletrans==4.0.0-rc1)\n",
            "  Downloading h11-0.9.0-py2.py3-none-any.whl (53 kB)\n",
            "\u001b[2K     \u001b[90m━━━━━━━━━━━━━━━━━━━━━━━━━━━━━━━━━━━━━━━━\u001b[0m \u001b[32m53.6/53.6 kB\u001b[0m \u001b[31m6.5 MB/s\u001b[0m eta \u001b[36m0:00:00\u001b[0m\n",
            "\u001b[?25hCollecting h2==3.* (from httpcore==0.9.*->httpx==0.13.3->googletrans==4.0.0-rc1)\n",
            "  Downloading h2-3.2.0-py2.py3-none-any.whl (65 kB)\n",
            "\u001b[2K     \u001b[90m━━━━━━━━━━━━━━━━━━━━━━━━━━━━━━━━━━━━━━━━\u001b[0m \u001b[32m65.0/65.0 kB\u001b[0m \u001b[31m7.2 MB/s\u001b[0m eta \u001b[36m0:00:00\u001b[0m\n",
            "\u001b[?25hCollecting hyperframe<6,>=5.2.0 (from h2==3.*->httpcore==0.9.*->httpx==0.13.3->googletrans==4.0.0-rc1)\n",
            "  Downloading hyperframe-5.2.0-py2.py3-none-any.whl (12 kB)\n",
            "Collecting hpack<4,>=3.0 (from h2==3.*->httpcore==0.9.*->httpx==0.13.3->googletrans==4.0.0-rc1)\n",
            "  Downloading hpack-3.0.0-py2.py3-none-any.whl (38 kB)\n",
            "Building wheels for collected packages: googletrans\n",
            "  Building wheel for googletrans (setup.py) ... \u001b[?25l\u001b[?25hdone\n",
            "  Created wheel for googletrans: filename=googletrans-4.0.0rc1-py3-none-any.whl size=17395 sha256=cb11603ea5999764005687bea899e5617a800bdf87bddfa90394a51b264bff44\n",
            "  Stored in directory: /root/.cache/pip/wheels/c0/59/9f/7372f0cf70160fe61b528532e1a7c8498c4becd6bcffb022de\n",
            "Successfully built googletrans\n",
            "Installing collected packages: rfc3986, hyperframe, hpack, h11, chardet, idna, hstspreload, h2, httpcore, httpx, googletrans\n",
            "  Attempting uninstall: chardet\n",
            "    Found existing installation: chardet 5.2.0\n",
            "    Uninstalling chardet-5.2.0:\n",
            "      Successfully uninstalled chardet-5.2.0\n",
            "  Attempting uninstall: idna\n",
            "    Found existing installation: idna 3.7\n",
            "    Uninstalling idna-3.7:\n",
            "      Successfully uninstalled idna-3.7\n",
            "Successfully installed chardet-3.0.4 googletrans-4.0.0rc1 h11-0.9.0 h2-3.2.0 hpack-3.0.0 hstspreload-2024.7.1 httpcore-0.9.1 httpx-0.13.3 hyperframe-5.2.0 idna-2.10 rfc3986-1.5.0\n"
          ]
        },
        {
          "data": {
            "application/vnd.colab-display-data+json": {
              "id": "bc17255586d448ad811615e34a323ce6",
              "pip_warning": {
                "packages": [
                  "chardet",
                  "idna"
                ]
              }
            }
          },
          "metadata": {},
          "output_type": "display_data"
        }
      ],
      "source": [
        "#à exécuter la première fois\n",
        "!pip install --upgrade googletrans==4.0.0-rc1"
      ]
    },
    {
      "cell_type": "code",
      "execution_count": null,
      "metadata": {
        "id": "P-B5FJvqxAzI"
      },
      "outputs": [],
      "source": [
        "CATEGORIES = [\"politique\",\n",
        "                \"environnement\",\n",
        "                \"agriculture\",\n",
        "                \"économie\",\n",
        "                \"éducation\",\n",
        "                \"transport\",\n",
        "                \"religion\",\n",
        "                \"santé\",\n",
        "                \"travail\",\n",
        "                \"sport\",\n",
        "                \"justice\",\n",
        "                \"loisir\",\n",
        "                \"social\",\n",
        "                \"technologie\",\n",
        "                \"art\"]"
      ]
    },
    {
      "cell_type": "code",
      "execution_count": null,
      "metadata": {
        "id": "Zgc4g-HWpYGp"
      },
      "outputs": [],
      "source": [
        "class Word2Vec:\n",
        "    def __init__(self, path_model, categories):\n",
        "        self.path_model = path_model\n",
        "        self.categories = categories\n",
        "        self.nlp = self.load_spacy_model()\n",
        "        self.trained = None\n",
        "\n",
        "    @staticmethod\n",
        "    def load_spacy_model():\n",
        "        try:\n",
        "            return spacy.load(\"fr_core_news_sm\")\n",
        "        except OSError:\n",
        "            spacy.cli.download(\"fr_core_news_sm\")\n",
        "            return spacy.load(\"fr_core_news_sm\")\n",
        "\n",
        "    def train(self):\n",
        "        #Cette étape prend du temps. Il faut compter environ 10 minutes pour charger le modèle en dimension 100\n",
        "        #Il faut plutôt 20mins pour charger le modèle en dimension 300. Ces temps sont pris sur Google Colab.\n",
        "        self.trained = keyedvectors.load_word2vec_format(self.path_model, binary=False)\n",
        "\n",
        "    def _update_vector(self, vec, token):\n",
        "        try:\n",
        "            values = self.trained[token]\n",
        "            vec += values\n",
        "            return vec, True\n",
        "        except KeyError:\n",
        "            return vec, False\n",
        "\n",
        "    def my_doc_2_vec(self, mots):\n",
        "        #Permet à partir d'une liste de mot, de retourner un vecteur moyen.\n",
        "        #Il s'agit du barycentre des vecteurs des mots du texte.\n",
        "        vec = np.zeros(self.trained.vectors.shape[1])\n",
        "        count = 0\n",
        "        for token in mots:\n",
        "            vec, updated = self._update_vector(vec, token)\n",
        "            if updated:\n",
        "                count += 1\n",
        "        return vec/count if count > 0 else vec\n",
        "\n",
        "    def _lemmatize_and_filter(self, texte):\n",
        "        #Permet de lemmatiser et de filtrer les mots du texte.\n",
        "        doc = self.nlp(texte)\n",
        "        lemmes = [token.lemma_ for token in doc]\n",
        "        return [\n",
        "            lemme for lemme in lemmes\n",
        "            if lemme not in self.nlp.Defaults.stop_words and lemme not in string.punctuation\n",
        "        ]\n",
        "\n",
        "    def get_vect(self, texte):\n",
        "        #Permet de retourner le vecteur moyen d'un texte (comprend la lematisation, le filtrage des mots et le calcul du barycentre)\n",
        "        mots_filtrés = self._lemmatize_and_filter(texte)\n",
        "        return self.my_doc_2_vec(mots_filtrés)\n",
        "\n",
        "    @staticmethod\n",
        "    def dist(word_vector1, word_vector2):\n",
        "        #Permet de calculer la similarité cosinus entre deux vecteurs\n",
        "        return np.dot(word_vector1, word_vector2) / (np.linalg.norm(word_vector1) * np.linalg.norm(word_vector2))\n",
        "\n",
        "    def get_sorted_cats(self, texte):\n",
        "        #Permet de retourner les catégories les plus proches d'un texte dans l'ordre\n",
        "        vec = self.get_vect(texte)\n",
        "        cat_vectors = [self.trained[cat] for cat in self.categories]\n",
        "        distances = [self.dist(cat_vec, vec) for cat_vec in cat_vectors]\n",
        "        sorted_categories = sorted(zip(self.categories, distances), key=lambda x: -x[1])\n",
        "        return sorted_categories\n"
      ]
    },
    {
      "cell_type": "code",
      "execution_count": null,
      "metadata": {
        "id": "5QsJmWI0GAt5"
      },
      "outputs": [],
      "source": [
        "class Sentiments:\n",
        "  def __init__(self):\n",
        "    try:\n",
        "      self.analyzer = SentimentIntensityAnalyzer()\n",
        "    except:\n",
        "      nltk.download('vader_lexicon')\n",
        "      self.analyzer = SentimentIntensityAnalyzer()\n",
        "    self.translator = Translator()\n",
        "\n",
        "  def get_sentiment_analysis(self,phrase):\n",
        "    #Permet de retourner la polarité d'une phrase\n",
        "    #On traduit la phrase en anglais pour une meilleure analyse\n",
        "    phrase_en = self.translator.translate(phrase, dest='en').text\n",
        "    return self.analyzer.polarity_scores(phrase_en)[\"compound\"]"
      ]
    },
    {
      "cell_type": "code",
      "execution_count": null,
      "metadata": {
        "colab": {
          "base_uri": "https://localhost:8080/"
        },
        "id": "S9t-iYQIGgqI",
        "outputId": "3c16a54f-6f44-4ba6-8312-4e63f10359ec"
      },
      "outputs": [
        {
          "name": "stderr",
          "output_type": "stream",
          "text": [
            "[nltk_data] Downloading package vader_lexicon to /root/nltk_data...\n"
          ]
        }
      ],
      "source": [
        "my_sentiments_model = Sentiments()"
      ]
    },
    {
      "cell_type": "code",
      "execution_count": null,
      "metadata": {
        "id": "beQ-5edPWkwW"
      },
      "outputs": [],
      "source": [
        "my_word2vec_model = Word2Vec(r\"/content/gdrive/MyDrive/Colab Notebooks/frwiki_20180420_300d.txt.bz2\",CATEGORIES)\n",
        "#Il faut bien sûr changer le chemin du modèle pour qu'il corresponde à l'emplacement du modèle sur votre Google Drive"
      ]
    },
    {
      "cell_type": "code",
      "execution_count": null,
      "metadata": {
        "colab": {
          "background_save": true
        },
        "id": "sVYTR7LaXZWE"
      },
      "outputs": [],
      "source": [
        "my_word2vec_model.train()"
      ]
    },
    {
      "cell_type": "code",
      "execution_count": null,
      "metadata": {
        "id": "tT68jbaJQbvK"
      },
      "outputs": [],
      "source": [
        "NOTION_API_URL = \"https://api.notion.com/v1/pages\"\n",
        "NOTION_API_KEY = \"INSERER API KEY\"\n",
        "DATABASE_ID_REP_TRAITE = \"6fb0749269924363afa68bd3fab90fa2\"\n",
        "DATABASE_ID_REP_BRUTE = \"d6e83d295d2c40548fdc0fa0241a24c4\"\n",
        "DATABASE_ID_REP_BRUTE2 = \"16ea2b5b9b7547a3883b6202160ec2e7\"\n",
        "\n",
        "def add_rep_traite(data):\n",
        "  #Permet d'ajouter une réponse traitée à la base de données Notion\n",
        "  headers = {\n",
        "      \"Authorization\": f\"Bearer {NOTION_API_KEY}\",\n",
        "      \"Content-Type\": \"application/json\",\n",
        "      \"Notion-Version\": \"2022-06-28\"\n",
        "  }\n",
        "\n",
        "  payload = {\n",
        "      \"parent\": {\"database_id\": DATABASE_ID_REP_TRAITE},\n",
        "      \"properties\": {\n",
        "          k: {\"rich_text\": [{\"text\": {\"content\": str(data[k])}}]} for k in data.keys()\n",
        "      }\n",
        "  }\n",
        "\n",
        "  response = requests.post(NOTION_API_URL, json=payload, headers=headers)\n",
        "  if response.status_code == 200:\n",
        "    pass\n",
        "  else:\n",
        "      print(f\"Failed to add entry to Notion. Status code: {response.status_code}, Response: {response.text}\")"
      ]
    },
    {
      "cell_type": "code",
      "execution_count": null,
      "metadata": {
        "id": "v9cCWqf-bsCt"
      },
      "outputs": [],
      "source": [
        "def get_data_from_notion(DATABASE_ID):\n",
        "    #Permet de récupérer les données d'une base de données Notion à partir de son ID\n",
        "    NOTION_QUERY_URL = f\"https://api.notion.com/v1/databases/{DATABASE_ID}/query\"\n",
        "    headers = {\n",
        "        \"Authorization\": f\"Bearer {NOTION_API_KEY}\",\n",
        "        \"Content-Type\": \"application/json\",\n",
        "        \"Notion-Version\": \"2022-06-28\"\n",
        "    }\n",
        "\n",
        "    rows = {}\n",
        "    has_more = True\n",
        "    start_cursor = None\n",
        "\n",
        "    while has_more:\n",
        "        payload = {\"start_cursor\": start_cursor} if start_cursor else {}\n",
        "        response = requests.post(NOTION_QUERY_URL, headers=headers, json=payload)\n",
        "        data = response.json()\n",
        "\n",
        "        if not rows:  # Initialize columns on the first request\n",
        "            column_names = data[\"results\"][0]['properties'].keys()\n",
        "            rows = {col: [] for col in column_names if col != \"empty_col\"}\n",
        "\n",
        "        for result in data['results']:\n",
        "            properties = result['properties']\n",
        "            for k in rows.keys():\n",
        "                if 'rich_text' in properties[k] and properties[k]['rich_text']:\n",
        "                    rows[k].append(properties[k]['rich_text'][0]['text']['content'])\n",
        "                else:\n",
        "                    rows[k].append(None)\n",
        "\n",
        "        has_more = data.get(\"has_more\", False)\n",
        "        start_cursor = data.get(\"next_cursor\", None)\n",
        "\n",
        "    return rows"
      ]
    },
    {
      "cell_type": "code",
      "execution_count": null,
      "metadata": {
        "id": "Jxy6noUXaKot"
      },
      "outputs": [],
      "source": [
        "def get_new_data():\n",
        "  #Permet de récupérer les nouvelles réponses brutes qui n'ont pas encore été traitées\n",
        "  #Pour cela, nous avons mis en place un système d'indexage qui à une réponse associe un unique identifiant.\n",
        "  #Nous comparons les identifiants des réponses brutes et des réponses traitées pour déterminer les nouvelles réponses.\n",
        "  data_brute = get_data_from_notion(DATABASE_ID_REP_BRUTE2)\n",
        "  data_traite = get_data_from_notion(DATABASE_ID_REP_TRAITE)\n",
        "  new_data = {\"Rep1\":[],\n",
        "            \"Rep2\":[],\n",
        "            \"Rep3\":[],\n",
        "            \"Index\":[]}\n",
        "  for i in range(len(data_brute[\"Index\"])):\n",
        "    if not (data_brute[\"Index\"][i] in data_traite[\"num\"]):\n",
        "      for k in new_data.keys():\n",
        "        new_data[k].append(data_brute[k][i])\n",
        "  return new_data"
      ]
    },
    {
      "cell_type": "code",
      "execution_count": null,
      "metadata": {
        "id": "pwyMkhk7fC1r"
      },
      "outputs": [],
      "source": [
        "def traiter_data(new_data,word2vec_model,sentiment_model):\n",
        "  #Permet de traiter les nouvelles réponses brutes (ie les catégoriser et analyser leur sentiment).\n",
        "  df = pd.DataFrame(new_data)\n",
        "  df[\"phrase\"] = \"En tant que \" + df[\"Rep1\"] + \" j'aimerais \" + df[\"Rep2\"] + \" parce que \" + df[\"Rep3\"]\n",
        "  df2 = pd.concat((df[\"Index\"],df[\"phrase\"],df[\"phrase\"].apply(word2vec_model.get_sorted_cats)),axis=1)\n",
        "  df2[\"emotion\"] = df[\"phrase\"].apply(sentiment_model.get_sentiment_analysis)\n",
        "  cats = {cat : [] for cat in CATEGORIES}\n",
        "  cats[\"num\"] = []\n",
        "  cats[\"emotion\"] = []\n",
        "\n",
        "  for i in range(len(df2)):\n",
        "    s = df2.iloc[i]\n",
        "    for j in range(len(cats.keys())-2):\n",
        "      cats[s.iloc[2][j][0]].append(s.iloc[2][j][1])\n",
        "    cats[\"num\"].append(int(s[\"Index\"]))\n",
        "    cats[\"emotion\"].append(s[\"emotion\"])\n",
        "  return cats"
      ]
    },
    {
      "cell_type": "code",
      "execution_count": null,
      "metadata": {
        "id": "EVmcZIB8Y1VD"
      },
      "outputs": [],
      "source": [
        "def update_rep_traite(word2vec_model,sentiment_model):\n",
        "  #Permet de mettre à jour la base de données Notion avec les réponses traitées\n",
        "  new_data = get_new_data()\n",
        "  if len(new_data[\"Index\"]) == 0:\n",
        "    print(\"Nothing to update !\")\n",
        "    return False\n",
        "  new_data_traite = traiter_data(new_data,word2vec_model,sentiment_model)\n",
        "\n",
        "  for i in range(len(new_data_traite[\"num\"])):\n",
        "    new_sample = {cat : [] for cat in CATEGORIES}\n",
        "    new_sample[\"num\"] = []\n",
        "    for k in new_data_traite.keys():\n",
        "      new_sample[k] = new_data_traite[k][i]\n",
        "    add_rep_traite(new_sample)\n",
        "    print(f\"Added {i+1}/{len(new_data_traite['num'])} samples.\",end=\"\\r\")"
      ]
    },
    {
      "cell_type": "code",
      "execution_count": null,
      "metadata": {
        "colab": {
          "base_uri": "https://localhost:8080/"
        },
        "id": "3bvxLwATlffu",
        "outputId": "c4a72375-6b08-46db-c424-03a8acdd1729"
      },
      "outputs": [
        {
          "name": "stdout",
          "output_type": "stream",
          "text": [
            "4\n",
            "{'Rep1': ['Personnels des services directs aux particuliers', 'Personnels des services directs aux particuliers', 'Employés de commerce', 'Employés de commerce', 'Employés de commerce', 'Employés de commerce', 'Employés de commerce', 'Employés de commerce', 'Employés de commerce', 'Employés de commerce', 'Employés de commerce', 'Employés de commerce', \"Employés administratifs d'entreprise\", \"Employés administratifs d'entreprise\", \"Employés administratifs d'entreprise\", \"Employés administratifs d'entreprise\", \"Employés administratifs d'entreprise\", \"Employés administratifs d'entreprise\", \"Employés administratifs d'entreprise\", \"Employés administratifs d'entreprise\", \"Employés administratifs d'entreprise\", \"Employés administratifs d'entreprise\", \"Employés administratifs d'entreprise\", \"Employés administratifs d'entreprise\", \"Employés administratifs d'entreprise\", \"Employés administratifs d'entreprise\", \"Employés administratifs d'entreprise\", \"Employés administratifs d'entreprise\", \"Employés administratifs d'entreprise\", \"Employés administratifs d'entreprise\", \"Employés administratifs d'entreprise\", \"Employés administratifs d'entreprise\", \"Employés administratifs d'entreprise\", \"Employés administratifs d'entreprise\", \"Employés administratifs d'entreprise\", \"Employés administratifs d'entreprise\", \"Employés administratifs d'entreprise\", \"Employés administratifs d'entreprise\", \"Employés administratifs d'entreprise\", \"Employés administratifs d'entreprise\", \"Employés administratifs d'entreprise\", \"Employés administratifs d'entreprise\", 'Policiers et militaires', 'Policiers et militaires', 'Policiers et militaires', 'Policiers et militaires', 'Employés civils et agents de service de la fonction publique', 'Employés civils et agents de service de la fonction publique', 'Employés civils et agents de service de la fonction publique', 'Employés civils et agents de service de la fonction publique', 'Employés civils et agents de service de la fonction publique', 'Employés civils et agents de service de la fonction publique', 'Employés civils et agents de service de la fonction publique', 'Employés civils et agents de service de la fonction publique', 'Employés civils et agents de service de la fonction publique', 'Employés civils et agents de service de la fonction publique', 'Contremaîtres, agents de maîtrise', 'Contremaîtres, agents de maîtrise', 'Contremaîtres, agents de maîtrise', 'Contremaîtres, agents de maîtrise', 'Techniciens', 'Techniciens', 'Techniciens', 'Techniciens', 'Professions intermédiaires administratives et commerciales des entreprises', 'Professions intermédiaires administratives et commerciales des entreprises', 'Professions intermédiaires administratives et commerciales des entreprises', 'Professions intermédiaires administratives et commerciales des entreprises', \"Professions intermédiaires de l'enseignement, de la santé, de la fonction publique et assimilés\", \"Professions intermédiaires de l'enseignement, de la santé, de la fonction publique et assimilés\", \"Professions intermédiaires de l'enseignement, de la santé, de la fonction publique et assimilés\", \"Professions intermédiaires de l'enseignement, de la santé, de la fonction publique et assimilés\", \"Ingénieurs et cadres techniques d'entreprise\", \"Ingénieurs et cadres techniques d'entreprise\", \"Ingénieurs et cadres techniques d'entreprise\", \"Ingénieurs et cadres techniques d'entreprise\", \"Cadres administratifs et commerciaux d'entreprise\", \"Cadres administratifs et commerciaux d'entreprise\", \"Cadres administratifs et commerciaux d'entreprise\", \"Cadres administratifs et commerciaux d'entreprise\", \"Professions de l'information, des arts et des spectacles\", \"Professions de l'information, des arts et des spectacles\", 'Professeurs et professions scientifiques', 'Professeurs et professions scientifiques', 'Professeurs et professions scientifiques', 'Professeurs et professions scientifiques', 'Cadres de la fonction publique', 'Cadres de la fonction publique', 'Cadres de la fonction publique', 'Cadres de la fonction publique', 'Cadres de la fonction publique', 'Cadres de la fonction publique', 'Cadres de la fonction publique', 'Cadres de la fonction publique', 'Cadres de la fonction publique', 'Cadres de la fonction publique', 'Cadres de la fonction publique', 'Cadres de la fonction publique', 'Cadres de la fonction publique', 'Cadres de la fonction publique', 'Cadres de la fonction publique', 'Cadres de la fonction publique', 'Cadres de la fonction publique', 'Cadres de la fonction publique', 'Cadres de la fonction publique', 'Cadres de la fonction publique', 'Professions libérales et assimilées', 'Professions libérales et assimilées', 'Professions libérales et assimilées', 'Professions libérales et assimilées', \"Chefs d'entreprise de 10 salariés ou plus\", \"Chefs d'entreprise de 10 salariés ou plus\", 'Commerçants et assimilés', 'Commerçants et assimilés', 'Commerçants et assimilés', 'Commerçants et assimilés', 'Commerçants et assimilés', 'Commerçants et assimilés', 'Commerçants et assimilés', 'Commerçants et assimilés', 'Commerçants et assimilés', 'Commerçants et assimilés', 'Artisans', 'Artisans', 'Artisans', 'Artisans', 'Exploitants agricoles', 'Exploitants agricoles'], 'Rep2': ['Réduction de la charge fiscale sur les entreprises', 'Soutien aux personnes sans emploi', 'Simplification des démarches administratives', 'Meilleure accessibilité des bâtiments publics', 'Stabilisation des contrats de travail', 'Développement des transports publics', 'Simplification des démarches administratives', \"Création d'emplois et formations\", \"Soutien à l'innovation entrepreneuriale\", 'Promotion de la diversité culturelle', 'Réduction du temps de travail', 'Lutte contre le harcèlement scolaire', \"Soutien à l'artisanat local\", 'Soutien aux familles nombreuses', 'Soutien aux familles nombreuses', \"Accès à l'éducation pour les adultes\", 'Soutien aux industries culturelles', 'Soutien aux petits commerces', 'Réduction des taxes agricoles', 'Renforcement de la lutte contre la discrimination au travail', 'Meilleure accessibilité des bâtiments publics', 'Meilleure accessibilité des bâtiments publics', 'Stabilisation des contrats de travail', 'Télétravail et flexibilité des horaires', \"Accès à l'éducation pour les adultes\", \"Protection de l'environnement\", \"Accès à l'éducation pour les adultes\", 'Télétravail et flexibilité des horaires', 'Promotion du télétravail', \"Réduction des délais d'attente pour les soins médicaux\", \"Protection de l'environnement\", \"Réduction des délais d'attente pour les soins médicaux\", 'Augmentation des salaires des fonctionnaires', 'Réduction du temps de travail', 'Amélioration des conditions de travail', 'Amélioration des services publics', 'Soutien aux industries culturelles', 'Création de logements sociaux', \"Soutien à l'artisanat local\", 'Révision des honoraires des professions libérales', 'Soutien aux personnes sans emploi', 'Augmentation des salaires des fonctionnaires', \"Création d'emplois et formations\", 'Augmentation des budgets pour la recherche', \"Soutien à l'innovation entrepreneuriale\", \"Soutien à l'agriculture biologique\", 'Renforcement de la lutte contre la discrimination au travail', \"Augmentation des pensions d'invalidité\", 'Meilleure accessibilité des bâtiments publics', 'Amélioration des infrastructures routières', 'Augmentation des salaires des fonctionnaires', 'Meilleure accessibilité des bâtiments publics', 'Augmentation des salaires minimum', 'Soutien aux jeunes entrepreneurs', 'Reconnaissance des compétences des contremaîtres', \"Investissements dans l'innovation technologique\", 'Soutien aux industries locales', 'Télétravail et flexibilité des horaires', \"Accès à l'éducation pour les adultes\", \"Investissements dans l'innovation technologique\", 'Augmentation des salaires des fonctionnaires', 'Soutien à la transition énergétique', \"Réduction des délais d'attente pour les soins médicaux\", 'Amélioration des infrastructures routières', 'Soutien aux travailleurs indépendants', 'Augmentation des salaires des fonctionnaires', 'Amélioration des conditions de travail', \"Réduction des délais d'attente pour les soins médicaux\", 'Stabilisation des contrats de travail', \"Création d'emplois et formations\", 'Soutien aux industries locales', 'Soutien aux personnes sans emploi', 'Réduction de la charge fiscale sur les entreprises', 'Simplification des démarches administratives', 'Soutien aux travailleurs indépendants', 'Augmentation des pensions de retraite', 'Soutien psychologique pour les travailleurs', 'Réduction des taxes agricoles', 'Amélioration des infrastructures urbaines', 'Soutien aux travailleurs indépendants', 'Reconnaissance des compétences des contremaîtres', \"Promotion de l'égalité salariale entre hommes et femmes\", 'Soutien psychologique pour les travailleurs', 'Augmentation des pensions de retraite', 'Amélioration des conditions de travail dans les hôpitaux', \"Création d'emplois et formations\", 'Soutien aux industries culturelles', 'Meilleure accessibilité des bâtiments publics', \"Soutien à l'innovation entrepreneuriale\", 'Télétravail et flexibilité des horaires', \"Soutien à l'agriculture biologique\", 'Réduction de la charge fiscale sur les entreprises', \"Protection de l'environnement\", 'Amélioration des services publics', 'Meilleure accessibilité des bâtiments publics', \"Protection de l'environnement\", 'Amélioration des conditions de travail', 'Augmentation des salaires des fonctionnaires', 'Réduction du temps de travail', 'Augmentation des aides sociales', 'Simplification des démarches administratives', 'Renforcement de la lutte contre la discrimination au travail', \"Accès à l'éducation pour les adultes\", 'Amélioration des conditions de travail dans les hôpitaux', 'Soutien aux industries locales', \"Protection de l'environnement\", 'Réduction de la charge fiscale sur les entreprises', 'Amélioration des conditions de travail pour les enseignants', \"Soutien à l'agriculture biologique\", 'Augmentation des salaires des fonctionnaires', 'Formation continue pour les techniciens', 'Amélioration des conditions de travail', 'Réduction des taxes agricoles', \"Soutien à l'artisanat local\", 'Télétravail et flexibilité des horaires', 'Renforcement de la lutte contre la discrimination au travail', 'Promotion de la diversité culturelle', 'Soutien aux familles nombreuses', 'Soutien aux petits commerces', 'Soutien aux industries culturelles', \"Protection de l'environnement\", \"Soutien à l'agriculture biologique\", 'Augmentation des aides sociales', \"Protection de l'environnement\", 'Formation continue pour les techniciens', \"Création d'emplois et formations\", 'Formation continue pour les techniciens', 'Soutien aux familles nombreuses'], 'Rep3': ['Les impôts sont trop élevés, nous avons du mal à rester à flot.', 'La précarité est difficile à vivre, nous avons besoin de soutien.', 'Les formalités sont trop complexes et nous font perdre un temps précieux.', \"Les personnes à mobilité réduite rencontrent encore trop d'obstacles, ce qui limite leur autonomie.\", 'Le précariat est trop répandu, nous avons besoin de sécurité.', 'Les transports en commun sont insuffisants et mal desservis dans les zones rurales.', 'Les formalités sont trop complexes et nous font perdre un temps précieux.', \"Nous avons besoin d'opportunités pour sortir du chômage.\", 'Les startups ont besoin de plus de financement pour se développer.', 'Il est important de valoriser la richesse culturelle de notre pays pour éviter que certaines communautés ne se sentent exclues.', 'Les journées de travail sont trop longues et nuisent à notre santé.', \"Les enfants doivent pouvoir aller à l'école sans crainte de subir des mauvais traitements.\", 'Le commerce en ligne nous écrase et on perd notre clientèle fidèle.', 'Les familles nombreuses ont des besoins spécifiques qui ne sont pas toujours pris en compte, ce qui complique leur gestion quotidienne.', 'Les familles nombreuses ont des besoins spécifiques qui ne sont pas toujours pris en compte, ce qui complique leur gestion quotidienne.', \"Beaucoup d'adultes n'ont pas les compétences nécessaires pour les emplois actuels.\", 'La pandémie a durement frappé ce secteur, nous sommes au bord du gouffre.', 'La concurrence des grandes surfaces est écrasante, nous ne survivrons pas longtemps.', 'Les coûts de production sont trop élevés et les marges trop faibles pour survivre.', 'Les inégalités de traitement persistent malgré les lois existantes.', \"Les personnes à mobilité réduite rencontrent encore trop d'obstacles, ce qui limite leur autonomie.\", \"Les personnes à mobilité réduite rencontrent encore trop d'obstacles, ce qui limite leur autonomie.\", 'Le précariat est trop répandu, nous avons besoin de sécurité.', 'Nous avons besoin de plus de flexibilité pour mieux concilier vie professionnelle et personnelle.', \"Beaucoup d'adultes n'ont pas les compétences nécessaires pour les emplois actuels.\", 'Les politiques actuelles ne font pas assez pour lutter contre le changement climatique.', \"Beaucoup d'adultes n'ont pas les compétences nécessaires pour les emplois actuels.\", 'Nous avons besoin de plus de flexibilité pour mieux concilier vie professionnelle et personnelle.', 'Le télétravail permet de mieux concilier vie professionnelle et personnelle, et devrait être plus largement accessible.', 'Les patients doivent attendre trop longtemps pour obtenir des soins de qualité.', 'Les politiques actuelles ne font pas assez pour lutter contre le changement climatique.', 'Les patients doivent attendre trop longtemps pour obtenir des soins de qualité.', \"Les salaires sont gelés depuis trop longtemps, c'est décourageant.\", 'Les journées de travail sont trop longues et nuisent à notre santé.', 'Les conditions actuelles sont épuisantes, nous ne pouvons pas continuer ainsi.', 'Les ressources sont insuffisantes, nous ne pouvons pas bien faire notre travail.', 'La pandémie a durement frappé ce secteur, nous sommes au bord du gouffre.', 'Il y a une pénurie de logements abordables pour les familles à faible revenu.', 'Le commerce en ligne nous écrase et on perd notre clientèle fidèle.', 'Les tarifs actuels ne nous permettent plus de vivre correctement.', 'La précarité est difficile à vivre, nous avons besoin de soutien.', \"Les salaires sont gelés depuis trop longtemps, c'est décourageant.\", \"Nous avons besoin d'opportunités pour sortir du chômage.\", 'Les financements sont insuffisants, nous ne pouvons pas avancer.', 'Les startups ont besoin de plus de financement pour se développer.', \"L'agriculture durable est cruciale pour la santé et l'environnement, et le manque de soutien actuel met les agriculteurs dans une position délicate.\", 'Les inégalités de traitement persistent malgré les lois existantes.', 'Les personnes handicapées ne reçoivent pas assez de soutien financier, ce qui les laisse souvent dans des situations très difficiles.', \"Les personnes à mobilité réduite rencontrent encore trop d'obstacles, ce qui limite leur autonomie.\", \"Les routes sont dangereuses, c'est un risque quotidien pour nous.\", \"Les salaires sont gelés depuis trop longtemps, c'est décourageant.\", \"Les personnes à mobilité réduite rencontrent encore trop d'obstacles, ce qui limite leur autonomie.\", 'Le coût de la vie augmente, nous ne pouvons plus joindre les deux bouts.', 'Les jeunes ont des idées innovantes mais manquent de moyens pour les réaliser, ce qui freine leur potentiel.', 'Notre rôle est crucial mais souvent sous-estimé.', 'Nous devons rester compétitifs au niveau mondial, sinon nous serons dépassés.', 'La délocalisation menace nos emplois, nous avons peur de perdre notre travail.', 'Nous avons besoin de plus de flexibilité pour mieux concilier vie professionnelle et personnelle.', \"Beaucoup d'adultes n'ont pas les compétences nécessaires pour les emplois actuels.\", 'Nous devons rester compétitifs au niveau mondial, sinon nous serons dépassés.', \"Les salaires sont gelés depuis trop longtemps, c'est décourageant.\", 'Nous devons réduire notre dépendance aux énergies fossiles pour un avenir plus durable.', 'Les patients doivent attendre trop longtemps pour obtenir des soins de qualité.', \"Les routes sont dangereuses, c'est un risque quotidien pour nous.\", 'Les charges sociales et fiscales sont trop lourdes pour les auto-entrepreneurs.', \"Les salaires sont gelés depuis trop longtemps, c'est décourageant.\", 'Les conditions actuelles sont épuisantes, nous ne pouvons pas continuer ainsi.', 'Les patients doivent attendre trop longtemps pour obtenir des soins de qualité.', 'Le précariat est trop répandu, nous avons besoin de sécurité.', \"Nous avons besoin d'opportunités pour sortir du chômage.\", 'La délocalisation menace nos emplois, nous avons peur de perdre notre travail.', 'La précarité est difficile à vivre, nous avons besoin de soutien.', 'Les impôts sont trop élevés, nous avons du mal à rester à flot.', 'Les formalités sont trop complexes et nous font perdre un temps précieux.', 'Les charges sociales et fiscales sont trop lourdes pour les auto-entrepreneurs.', 'Le coût de la vie augmente, notre pension ne suffit plus.', 'Le stress au travail est un problème majeur qui affecte la productivité et le bien-être.', 'Les coûts de production sont trop élevés et les marges trop faibles pour survivre.', 'Les rues sont en mauvais état, cela dissuade les clients de venir.', 'Les charges sociales et fiscales sont trop lourdes pour les auto-entrepreneurs.', 'Notre rôle est crucial mais souvent sous-estimé.', 'Il existe encore un écart salarial important entre les sexes.', 'Le stress au travail est un problème majeur qui affecte la productivité et le bien-être.', 'Le coût de la vie augmente, notre pension ne suffit plus.', 'Les personnels soignants sont épuisés et les conditions de travail se détériorent.', \"Nous avons besoin d'opportunités pour sortir du chômage.\", 'La pandémie a durement frappé ce secteur, nous sommes au bord du gouffre.', \"Les personnes à mobilité réduite rencontrent encore trop d'obstacles, ce qui limite leur autonomie.\", 'Les startups ont besoin de plus de financement pour se développer.', 'Nous avons besoin de plus de flexibilité pour mieux concilier vie professionnelle et personnelle.', \"L'agriculture durable est cruciale pour la santé et l'environnement, et le manque de soutien actuel met les agriculteurs dans une position délicate.\", 'Les impôts sont trop élevés, nous avons du mal à rester à flot.', 'Les politiques actuelles ne font pas assez pour lutter contre le changement climatique.', 'Les ressources sont insuffisantes, nous ne pouvons pas bien faire notre travail.', \"Les personnes à mobilité réduite rencontrent encore trop d'obstacles, ce qui limite leur autonomie.\", 'Les politiques actuelles ne font pas assez pour lutter contre le changement climatique.', 'Les conditions actuelles sont épuisantes, nous ne pouvons pas continuer ainsi.', \"Les salaires sont gelés depuis trop longtemps, c'est décourageant.\", 'Les journées de travail sont trop longues et nuisent à notre santé.', 'Les aides actuelles ne suffisent pas à couvrir les besoins essentiels des plus démunis, ce qui complique énormément leur quotidien.', 'Les formalités sont trop complexes et nous font perdre un temps précieux.', 'Les inégalités de traitement persistent malgré les lois existantes.', \"Beaucoup d'adultes n'ont pas les compétences nécessaires pour les emplois actuels.\", 'Les personnels soignants sont épuisés et les conditions de travail se détériorent.', 'La délocalisation menace nos emplois, nous avons peur de perdre notre travail.', 'Les politiques actuelles ne font pas assez pour lutter contre le changement climatique.', 'Les impôts sont trop élevés, nous avons du mal à rester à flot.', \"Les enseignants sont surchargés et manquent de ressources, ce qui affecte la qualité de l'enseignement.\", \"L'agriculture durable est cruciale pour la santé et l'environnement, et le manque de soutien actuel met les agriculteurs dans une position délicate.\", \"Les salaires sont gelés depuis trop longtemps, c'est décourageant.\", 'Nous avons besoin de mise à jour régulière des compétences pour ne pas être dépassés.', 'Les conditions actuelles sont épuisantes, nous ne pouvons pas continuer ainsi.', 'Les coûts de production sont trop élevés et les marges trop faibles pour survivre.', 'Le commerce en ligne nous écrase et on perd notre clientèle fidèle.', 'Nous avons besoin de plus de flexibilité pour mieux concilier vie professionnelle et personnelle.', 'Les inégalités de traitement persistent malgré les lois existantes.', 'Il est important de valoriser la richesse culturelle de notre pays pour éviter que certaines communautés ne se sentent exclues.', 'Les familles nombreuses ont des besoins spécifiques qui ne sont pas toujours pris en compte, ce qui complique leur gestion quotidienne.', 'La concurrence des grandes surfaces est écrasante, nous ne survivrons pas longtemps.', 'La pandémie a durement frappé ce secteur, nous sommes au bord du gouffre.', 'Les politiques actuelles ne font pas assez pour lutter contre le changement climatique.', \"L'agriculture durable est cruciale pour la santé et l'environnement, et le manque de soutien actuel met les agriculteurs dans une position délicate.\", 'Les aides actuelles ne suffisent pas à couvrir les besoins essentiels des plus démunis, ce qui complique énormément leur quotidien.', 'Les politiques actuelles ne font pas assez pour lutter contre le changement climatique.', 'Nous avons besoin de mise à jour régulière des compétences pour ne pas être dépassés.', \"Nous avons besoin d'opportunités pour sortir du chômage.\", 'Nous avons besoin de mise à jour régulière des compétences pour ne pas être dépassés.', 'Les familles nombreuses ont des besoins spécifiques qui ne sont pas toujours pris en compte, ce qui complique leur gestion quotidienne.'], 'Index': ['128', '127', '126', '125', '124', '123', '122', '121', '120', '119', '118', '117', '116', '115', '114', '113', '112', '111', '110', '109', '108', '107', '106', '105', '104', '103', '102', '101', '100', '99', '98', '97', '96', '95', '94', '93', '92', '91', '90', '89', '88', '87', '86', '85', '84', '83', '82', '81', '80', '79', '78', '77', '76', '75', '74', '73', '72', '71', '70', '69', '68', '67', '66', '65', '64', '63', '62', '61', '60', '59', '58', '57', '56', '55', '54', '53', '52', '51', '50', '49', '48', '47', '46', '45', '44', '43', '42', '41', '40', '39', '38', '37', '36', '35', '34', '33', '32', '31', '30', '29', '28', '27', '26', '25', '24', '23', '22', '21', '20', '19', '18', '17', '16', '15', '14', '13', '12', '11', '10', '9', '8', '7', '6', '5', '4', '3', '2', '1']}\n"
          ]
        }
      ],
      "source": [
        "update_rep_traite(my_word2vec_model,my_sentiments_model)"
      ]
    },
    {
      "cell_type": "code",
      "execution_count": null,
      "metadata": {
        "id": "wi7Ia-VatghY"
      },
      "outputs": [],
      "source": []
    }
  ],
  "metadata": {
    "colab": {
      "provenance": []
    },
    "kernelspec": {
      "display_name": "Python 3",
      "name": "python3"
    },
    "language_info": {
      "name": "python"
    }
  },
  "nbformat": 4,
  "nbformat_minor": 0
}
