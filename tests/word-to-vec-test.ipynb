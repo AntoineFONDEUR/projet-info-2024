{
 "cells": [
  {
   "cell_type": "code",
   "execution_count": 2,
   "metadata": {},
   "outputs": [
    {
     "ename": "ModuleNotFoundError",
     "evalue": "No module named 'classifier.word_to_vec'",
     "output_type": "error",
     "traceback": [
      "\u001b[1;31m---------------------------------------------------------------------------\u001b[0m",
      "\u001b[1;31mModuleNotFoundError\u001b[0m                       Traceback (most recent call last)",
      "Cell \u001b[1;32mIn[2], line 5\u001b[0m\n\u001b[0;32m      2\u001b[0m \u001b[38;5;28;01mimport\u001b[39;00m \u001b[38;5;21;01mos\u001b[39;00m\n\u001b[0;32m      4\u001b[0m sys\u001b[38;5;241m.\u001b[39mpath\u001b[38;5;241m.\u001b[39mappend(os\u001b[38;5;241m.\u001b[39mpath\u001b[38;5;241m.\u001b[39mabspath(os\u001b[38;5;241m.\u001b[39mpath\u001b[38;5;241m.\u001b[39mjoin(\u001b[38;5;124m'\u001b[39m\u001b[38;5;124m..\u001b[39m\u001b[38;5;124m'\u001b[39m, \u001b[38;5;124m'\u001b[39m\u001b[38;5;124msrc\u001b[39m\u001b[38;5;124m'\u001b[39m)))\n\u001b[1;32m----> 5\u001b[0m \u001b[38;5;28;01mfrom\u001b[39;00m \u001b[38;5;21;01mclassifier\u001b[39;00m\u001b[38;5;21;01m.\u001b[39;00m\u001b[38;5;21;01mword_to_vec\u001b[39;00m\u001b[38;5;21;01m.\u001b[39;00m\u001b[38;5;21;01mmain\u001b[39;00m \u001b[38;5;28;01mimport\u001b[39;00m get_sorted_cats\n",
      "\u001b[1;31mModuleNotFoundError\u001b[0m: No module named 'classifier.word_to_vec'"
     ]
    }
   ],
   "source": [
    "import sys\n",
    "import os\n",
    "\n",
    "sys.path.append(os.path.abspath(os.path.join('..', 'src')))\n",
    "from classifier.word_to_vec.main import get_sorted_cats"
   ]
  },
  {
   "cell_type": "code",
   "execution_count": null,
   "metadata": {},
   "outputs": [],
   "source": [
    "test = {\"phrases\":[\"En tant que citoyen je pense que le gouvernement actuel devrait mettre en place plus de normes environnementales\",\n",
    "                \"En tant que salarié de l'entreprise Google je souhaite mettre en place une salle de jeu dans l'espace commun afin de me détendre\",\n",
    "                \"En tant qu'étudiant aux mines de Paris, je souhaite faire plus de droit\",\n",
    "                \"En tant que Parisien, je souhaiterais plus de métros aux heures de pointes pour désengorger les stations\",\n",
    "                \"En tant que citoyen, je souhaiterais pouvoir donner mon opinion et qu'elle soit interprétée par un programme s'appuyant sur une intelligence articielle\",\n",
    "                \"Le passage aux énergies vertes s'impose\",\n",
    "                \"La laïcité est une valeur fondamentale de la nation française\",\n",
    "                \"Les jeux olympiques risquent de provoquer une saturation des réseaux de transport urbains\",\n",
    "                \"En tant qu'agriculteur je souhaiterais des normes environnementale moins exigentes pour mes exploitations afin d'assurer la prospérité de mon élevage de vache\",\n",
    "                \"Le coronavirus a provoqué une crise\",\n",
    "                \"En tant qu'aveugle je souhaiterais qu'il y a plus d'inscriptions en brail\",\n",
    "                \"En tant que trader je souhaiterais que les marchés financiers soient plus régulés\",\n",
    "                \"En tant qu'ouvrier je souhaiterais qu'il y ait plus d'aide au logement.\"],\n",
    "        \"labels\":[[\"environnement\", \"politique\", \"environnement\"],\n",
    "                  [\"travail\", \"loisir\"],\n",
    "                  [\"éducation\",\"justice\"],\n",
    "                  [\"transports\"],\n",
    "                  [\"politique\",\"technologie\"],\n",
    "                  [\"environnement\"],\n",
    "                  [\"politique\",\"religion\"],\n",
    "                  [\"transports\",\"loisir\"],\n",
    "                  [\"agriculture\",\"environnement\",\"économie\"],\n",
    "                  [\"santé\"],\n",
    "                  [\"santé\"],\n",
    "                  [\"économie\"],\n",
    "                  [\"social\"]]}"
   ]
  },
  {
   "cell_type": "code",
   "execution_count": null,
   "metadata": {},
   "outputs": [],
   "source": []
  }
 ],
 "metadata": {
  "kernelspec": {
   "display_name": "base",
   "language": "python",
   "name": "python3"
  },
  "language_info": {
   "codemirror_mode": {
    "name": "ipython",
    "version": 3
   },
   "file_extension": ".py",
   "mimetype": "text/x-python",
   "name": "python",
   "nbconvert_exporter": "python",
   "pygments_lexer": "ipython3",
   "version": "3.11.5"
  }
 },
 "nbformat": 4,
 "nbformat_minor": 2
}
