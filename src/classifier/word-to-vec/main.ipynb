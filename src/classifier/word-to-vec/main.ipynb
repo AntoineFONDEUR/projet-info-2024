{
 "cells": [
  {
   "cell_type": "code",
   "execution_count": 2,
   "id": "26762b98-fba1-4c31-aa4a-a356c056782c",
   "metadata": {},
   "outputs": [],
   "source": [
    "import string\n",
    "import spacy\n",
    "from gensim.models import keyedvectors\n",
    "import json\n",
    "import numpy as np"
   ]
  },
  {
   "cell_type": "code",
   "execution_count": 6,
   "id": "3139be74-899d-4a99-b681-cc11984ae128",
   "metadata": {},
   "outputs": [],
   "source": [
    "class Word2Vec:\n",
    "    def __init__(self,size):\n",
    "        self.path_model = f\"..\\models\\frwiki_20180420_{size}d.txt.bz2\"\n",
    "        self.nlp = spacy.load(\"fr_core_news_sm\")\n",
    "        path_categories = r\"..\\categories.json\"\n",
    "        with open(path_categories, 'r') as file:\n",
    "            categories_json = json.load(file)\n",
    "        self.categories = categories_json['categories']\n",
    "\n",
    "    def train(self):\n",
    "        self.model_trained=keyedvectors.load_word2vec_format(self.path_model, binary=False)\n",
    "\n",
    "    def my_doc_2_vec(self,mots,trained):\n",
    "        #Vecteur moyen d'un ensemble de mots\n",
    "        p=self.trained.vectors.shape[1]\n",
    "        vec=np.zeros(p)\n",
    "        nb=0\n",
    "        for tk in mots:\n",
    "            try:\n",
    "                values=self.trained[tk]\n",
    "                vec=vec+values\n",
    "                nb+=1\n",
    "            except:\n",
    "                pass\n",
    "        if nb>0: vec=vec/nb\n",
    "        return vec\n",
    "\n",
    "    def get_vect(self,texte):\n",
    "        #Lemnisation du texte et retourne le vecteur moyen des mots\n",
    "        doc = self.nlp(texte)\n",
    "        lemmes = [token.lemma_ for token in doc]\n",
    "        mots_filtrés = [lemme for lemme in lemmes if lemme not in self.nlp.Defaults.stop_words and lemme not in list(string.punctuation)]\n",
    "        return self.my_doc_2_vec(mots_filtrés,self.trained)\n",
    "\n",
    "\n",
    "    def dist(self,word_vector1, word_vector2):\n",
    "        #Retourne la distance entre deux vecteurs\n",
    "        return np.dot(word_vector1, word_vector2) / (np.linalg.norm(word_vector1) * np.linalg.norm(word_vector2))\n",
    "\n",
    "    def get_sorted_cats(self,texte):\n",
    "        #Retourne les catégories triées par ordre de ressemblance\n",
    "        vec = self.get_vect(texte)\n",
    "        cat_arr = np.array([self.trained[cat] for cat in self.categories])\n",
    "        distances = [self.dist(cat_arr[i],vec) for i in range(len(self.categories))]\n",
    "        d=[(self.categories[i],distances[i]) for i in range(len(self.categories))]\n",
    "        d.sort(key=lambda x:-x[1])\n",
    "        return d"
   ]
  }
 ],
 "metadata": {
  "kernelspec": {
   "display_name": "Python 3 (ipykernel)",
   "language": "python",
   "name": "python3"
  },
  "language_info": {
   "codemirror_mode": {
    "name": "ipython",
    "version": 3
   },
   "file_extension": ".py",
   "mimetype": "text/x-python",
   "name": "python",
   "nbconvert_exporter": "python",
   "pygments_lexer": "ipython3",
   "version": "3.11.5"
  }
 },
 "nbformat": 4,
 "nbformat_minor": 5
}
