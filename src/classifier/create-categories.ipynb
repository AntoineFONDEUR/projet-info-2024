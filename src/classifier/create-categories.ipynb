{
 "cells": [
  {
   "cell_type": "code",
   "execution_count": 1,
   "id": "43f11997-0a36-4300-a9fd-9a8679461537",
   "metadata": {},
   "outputs": [],
   "source": [
    "import json"
   ]
  },
  {
   "cell_type": "code",
   "execution_count": 2,
   "id": "6e92a407-f3d1-44cc-96d3-0025e01fe354",
   "metadata": {},
   "outputs": [],
   "source": [
    "data={\"categories\" : [\"politique\",\n",
    "                  \"environnement\",\n",
    "                  \"agriculture\",\n",
    "                  \"économie\",\n",
    "                  \"éducation\",\n",
    "                  \"transport\",\n",
    "                  \"religion\",\n",
    "                  \"santé\",\n",
    "                  \"travail\",\n",
    "                  \"sport\",\n",
    "                  \"justice\",\n",
    "                  \"loisir\",\n",
    "                  \"social\",\n",
    "                  \"technologie\"]}"
   ]
  },
  {
   "cell_type": "code",
   "execution_count": 3,
   "id": "470fa73f-e68d-4870-894a-562213cdbb7b",
   "metadata": {},
   "outputs": [],
   "source": [
    "file_path = 'categories.json'\n",
    "\n",
    "with open(file_path, 'w') as file:\n",
    "    json.dump(data, file, indent=4)"
   ]
  },
  {
   "cell_type": "code",
   "execution_count": null,
   "id": "2acf271d",
   "metadata": {},
   "outputs": [],
   "source": []
  }
 ],
 "metadata": {
  "kernelspec": {
   "display_name": "Python 3 (ipykernel)",
   "language": "python",
   "name": "python3"
  },
  "language_info": {
   "codemirror_mode": {
    "name": "ipython",
    "version": 3
   },
   "file_extension": ".py",
   "mimetype": "text/x-python",
   "name": "python",
   "nbconvert_exporter": "python",
   "pygments_lexer": "ipython3",
   "version": "3.12.3"
  }
 },
 "nbformat": 4,
 "nbformat_minor": 5
}
